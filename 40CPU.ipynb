{
  "nbformat": 4,
  "nbformat_minor": 0,
  "metadata": {
    "colab": {
      "name": "40.ipynb",
      "private_outputs": true,
      "provenance": [],
      "collapsed_sections": [],
      "machine_shape": "hm"
    },
    "kernelspec": {
      "name": "python3",
      "display_name": "Python 3"
    },
    "accelerator": "TPU"
  },
  "cells": [
    {
      "cell_type": "code",
      "metadata": {
        "id": "tAb77yZ9fzMG",
        "cellView": "form"
      },
      "source": [
        "#@title 40 cpu check\n",
        "!nvidia-sm\n",
        "!lscpu "
      ],
      "execution_count": null,
      "outputs": []
    },
    {
      "cell_type": "code",
      "source": [
        "#@title **SSH Server**\n",
        "!pkill -9 tmate\n",
        "!wget -nc https://github.com/tmate-io/tmate/releases/download/2.4.0/tmate-2.4.0-static-linux-i386.tar.xz &> /dev/null\n",
        "!tar --skip-old-files -xvf tmate-2.4.0-static-linux-i386.tar.xz &> /dev/null\n",
        "!rm -f nohup.out; bash -ic 'nohup ./tmate-2.4.0-static-linux-i386/tmate -S /tmp/tmate.sock new-session -d & disown -a' >/dev/null 2>&1\n",
        "!./tmate-2.4.0-static-linux-i386/tmate -S /tmp/tmate.sock wait tmate-ready\n",
        "!./tmate-2.4.0-static-linux-i386/tmate -S /tmp/tmate.sock display -p \"#{tmate_ssh} -t\"\n"
      ],
      "metadata": {
        "id": "24MNMM1sS5SD",
        "cellView": "form"
      },
      "execution_count": null,
      "outputs": []
    },
    {
      "cell_type": "code",
      "source": [
        "#@title **Sleep Mode**\n",
        "!sleep 9999999999"
      ],
      "metadata": {
        "cellView": "form",
        "id": "Uwg7bopuPJ8k"
      },
      "execution_count": null,
      "outputs": []
    }
  ]
}
